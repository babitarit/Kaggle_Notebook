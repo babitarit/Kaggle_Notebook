{
 "cells": [
  {
   "cell_type": "code",
   "execution_count": 1,
   "id": "81803c5e",
   "metadata": {
    "_cell_guid": "b1076dfc-b9ad-4769-8c92-a6c4dae69d19",
    "_uuid": "8f2839f25d086af736a60e9eeb907d3b93b6e0e5",
    "execution": {
     "iopub.execute_input": "2024-06-24T20:55:44.205074Z",
     "iopub.status.busy": "2024-06-24T20:55:44.204630Z",
     "iopub.status.idle": "2024-06-24T20:55:46.720902Z",
     "shell.execute_reply": "2024-06-24T20:55:46.719647Z"
    },
    "papermill": {
     "duration": 2.528811,
     "end_time": "2024-06-24T20:55:46.724211",
     "exception": false,
     "start_time": "2024-06-24T20:55:44.195400",
     "status": "completed"
    },
    "tags": []
   },
   "outputs": [
    {
     "name": "stdout",
     "output_type": "stream",
     "text": [
      "/kaggle/input/spam-email-dataset/emails.csv\n"
     ]
    }
   ],
   "source": [
    "# This Python 3 environment comes with many helpful analytics libraries installed\n",
    "# It is defined by the kaggle/python Docker image: https://github.com/kaggle/docker-python\n",
    "# For example, here's several helpful packages to load\n",
    "\n",
    "import numpy as np # linear algebra\n",
    "import pandas as pd # data processing, CSV file I/O (e.g. pd.read_csv)\n",
    "from sklearn.model_selection import train_test_split\n",
    "from sklearn.feature_extraction.text import TfidfVectorizer\n",
    "\n",
    "from sklearn.linear_model import LogisticRegression\n",
    "from sklearn.metrics import accuracy_score\n",
    "\n",
    "# Input data files are available in the read-only \"../input/\" directory\n",
    "# For example, running this (by clicking run or pressing Shift+Enter) will list all files under the input directory\n",
    "\n",
    "import os\n",
    "for dirname, _, filenames in os.walk('/kaggle/input'):\n",
    "    for filename in filenames:\n",
    "        print(os.path.join(dirname, filename))\n",
    "\n",
    "# You can write up to 20GB to the current directory (/kaggle/working/) that gets preserved as output when you create a version using \"Save & Run All\" \n",
    "# You can also write temporary files to /kaggle/temp/, but they won't be saved outside of the current session"
   ]
  },
  {
   "cell_type": "code",
   "execution_count": 2,
   "id": "6cfc3d77",
   "metadata": {
    "execution": {
     "iopub.execute_input": "2024-06-24T20:55:46.747161Z",
     "iopub.status.busy": "2024-06-24T20:55:46.746540Z",
     "iopub.status.idle": "2024-06-24T20:55:47.031627Z",
     "shell.execute_reply": "2024-06-24T20:55:47.030384Z"
    },
    "papermill": {
     "duration": 0.30065,
     "end_time": "2024-06-24T20:55:47.035313",
     "exception": false,
     "start_time": "2024-06-24T20:55:46.734663",
     "status": "completed"
    },
    "tags": []
   },
   "outputs": [],
   "source": [
    "raw_mail_data= pd.read_csv('/kaggle/input/spam-email-dataset/emails.csv')"
   ]
  },
  {
   "cell_type": "code",
   "execution_count": 3,
   "id": "1d9dd4b3",
   "metadata": {
    "execution": {
     "iopub.execute_input": "2024-06-24T20:55:47.054027Z",
     "iopub.status.busy": "2024-06-24T20:55:47.053573Z",
     "iopub.status.idle": "2024-06-24T20:55:47.075413Z",
     "shell.execute_reply": "2024-06-24T20:55:47.074335Z"
    },
    "papermill": {
     "duration": 0.033509,
     "end_time": "2024-06-24T20:55:47.078291",
     "exception": false,
     "start_time": "2024-06-24T20:55:47.044782",
     "status": "completed"
    },
    "tags": []
   },
   "outputs": [
    {
     "name": "stdout",
     "output_type": "stream",
     "text": [
      "                                                   text  spam\n",
      "0     Subject: naturally irresistible your corporate...     1\n",
      "1     Subject: the stock trading gunslinger  fanny i...     1\n",
      "2     Subject: unbelievable new homes made easy  im ...     1\n",
      "3     Subject: 4 color printing special  request add...     1\n",
      "4     Subject: do not have money , get software cds ...     1\n",
      "...                                                 ...   ...\n",
      "5723  Subject: re : research and development charges...     0\n",
      "5724  Subject: re : receipts from visit  jim ,  than...     0\n",
      "5725  Subject: re : enron case study update  wow ! a...     0\n",
      "5726  Subject: re : interest  david ,  please , call...     0\n",
      "5727  Subject: news : aurora 5 . 2 update  aurora ve...     0\n",
      "\n",
      "[5728 rows x 2 columns]\n"
     ]
    }
   ],
   "source": [
    "print(raw_mail_data)"
   ]
  },
  {
   "cell_type": "code",
   "execution_count": 4,
   "id": "8b8ba077",
   "metadata": {
    "execution": {
     "iopub.execute_input": "2024-06-24T20:55:47.095081Z",
     "iopub.status.busy": "2024-06-24T20:55:47.094626Z",
     "iopub.status.idle": "2024-06-24T20:55:47.106788Z",
     "shell.execute_reply": "2024-06-24T20:55:47.105657Z"
    },
    "papermill": {
     "duration": 0.023683,
     "end_time": "2024-06-24T20:55:47.109443",
     "exception": false,
     "start_time": "2024-06-24T20:55:47.085760",
     "status": "completed"
    },
    "tags": []
   },
   "outputs": [],
   "source": [
    "# replace null value with the null string\n",
    "#null val == missing value\n",
    "mail_data=raw_mail_data.where((pd.notnull(raw_mail_data)),'')"
   ]
  },
  {
   "cell_type": "code",
   "execution_count": 5,
   "id": "3aaee143",
   "metadata": {
    "execution": {
     "iopub.execute_input": "2024-06-24T20:55:47.126798Z",
     "iopub.status.busy": "2024-06-24T20:55:47.125484Z",
     "iopub.status.idle": "2024-06-24T20:55:47.140257Z",
     "shell.execute_reply": "2024-06-24T20:55:47.138881Z"
    },
    "papermill": {
     "duration": 0.026109,
     "end_time": "2024-06-24T20:55:47.142893",
     "exception": false,
     "start_time": "2024-06-24T20:55:47.116784",
     "status": "completed"
    },
    "tags": []
   },
   "outputs": [
    {
     "data": {
      "text/html": [
       "<div>\n",
       "<style scoped>\n",
       "    .dataframe tbody tr th:only-of-type {\n",
       "        vertical-align: middle;\n",
       "    }\n",
       "\n",
       "    .dataframe tbody tr th {\n",
       "        vertical-align: top;\n",
       "    }\n",
       "\n",
       "    .dataframe thead th {\n",
       "        text-align: right;\n",
       "    }\n",
       "</style>\n",
       "<table border=\"1\" class=\"dataframe\">\n",
       "  <thead>\n",
       "    <tr style=\"text-align: right;\">\n",
       "      <th></th>\n",
       "      <th>text</th>\n",
       "      <th>spam</th>\n",
       "    </tr>\n",
       "  </thead>\n",
       "  <tbody>\n",
       "    <tr>\n",
       "      <th>0</th>\n",
       "      <td>Subject: naturally irresistible your corporate...</td>\n",
       "      <td>1</td>\n",
       "    </tr>\n",
       "    <tr>\n",
       "      <th>1</th>\n",
       "      <td>Subject: the stock trading gunslinger  fanny i...</td>\n",
       "      <td>1</td>\n",
       "    </tr>\n",
       "    <tr>\n",
       "      <th>2</th>\n",
       "      <td>Subject: unbelievable new homes made easy  im ...</td>\n",
       "      <td>1</td>\n",
       "    </tr>\n",
       "    <tr>\n",
       "      <th>3</th>\n",
       "      <td>Subject: 4 color printing special  request add...</td>\n",
       "      <td>1</td>\n",
       "    </tr>\n",
       "    <tr>\n",
       "      <th>4</th>\n",
       "      <td>Subject: do not have money , get software cds ...</td>\n",
       "      <td>1</td>\n",
       "    </tr>\n",
       "  </tbody>\n",
       "</table>\n",
       "</div>"
      ],
      "text/plain": [
       "                                                text  spam\n",
       "0  Subject: naturally irresistible your corporate...     1\n",
       "1  Subject: the stock trading gunslinger  fanny i...     1\n",
       "2  Subject: unbelievable new homes made easy  im ...     1\n",
       "3  Subject: 4 color printing special  request add...     1\n",
       "4  Subject: do not have money , get software cds ...     1"
      ]
     },
     "execution_count": 5,
     "metadata": {},
     "output_type": "execute_result"
    }
   ],
   "source": [
    "mail_data.head()"
   ]
  },
  {
   "cell_type": "code",
   "execution_count": 6,
   "id": "4fb299af",
   "metadata": {
    "execution": {
     "iopub.execute_input": "2024-06-24T20:55:47.160652Z",
     "iopub.status.busy": "2024-06-24T20:55:47.160248Z",
     "iopub.status.idle": "2024-06-24T20:55:47.167829Z",
     "shell.execute_reply": "2024-06-24T20:55:47.166668Z"
    },
    "papermill": {
     "duration": 0.019777,
     "end_time": "2024-06-24T20:55:47.170494",
     "exception": false,
     "start_time": "2024-06-24T20:55:47.150717",
     "status": "completed"
    },
    "tags": []
   },
   "outputs": [
    {
     "data": {
      "text/plain": [
       "(5728, 2)"
      ]
     },
     "execution_count": 6,
     "metadata": {},
     "output_type": "execute_result"
    }
   ],
   "source": [
    "mail_data.shape"
   ]
  },
  {
   "cell_type": "code",
   "execution_count": 7,
   "id": "bad4efaf",
   "metadata": {
    "execution": {
     "iopub.execute_input": "2024-06-24T20:55:47.188558Z",
     "iopub.status.busy": "2024-06-24T20:55:47.187652Z",
     "iopub.status.idle": "2024-06-24T20:55:47.193301Z",
     "shell.execute_reply": "2024-06-24T20:55:47.192158Z"
    },
    "papermill": {
     "duration": 0.017316,
     "end_time": "2024-06-24T20:55:47.195734",
     "exception": false,
     "start_time": "2024-06-24T20:55:47.178418",
     "status": "completed"
    },
    "tags": []
   },
   "outputs": [],
   "source": [
    "X= mail_data['text']\n",
    "Y=mail_data['spam']"
   ]
  },
  {
   "cell_type": "code",
   "execution_count": 8,
   "id": "4ee7a0ba",
   "metadata": {
    "execution": {
     "iopub.execute_input": "2024-06-24T20:55:47.213329Z",
     "iopub.status.busy": "2024-06-24T20:55:47.212864Z",
     "iopub.status.idle": "2024-06-24T20:55:47.221192Z",
     "shell.execute_reply": "2024-06-24T20:55:47.219752Z"
    },
    "papermill": {
     "duration": 0.019991,
     "end_time": "2024-06-24T20:55:47.223687",
     "exception": false,
     "start_time": "2024-06-24T20:55:47.203696",
     "status": "completed"
    },
    "tags": []
   },
   "outputs": [
    {
     "name": "stdout",
     "output_type": "stream",
     "text": [
      "0       Subject: naturally irresistible your corporate...\n",
      "1       Subject: the stock trading gunslinger  fanny i...\n",
      "2       Subject: unbelievable new homes made easy  im ...\n",
      "3       Subject: 4 color printing special  request add...\n",
      "4       Subject: do not have money , get software cds ...\n",
      "                              ...                        \n",
      "5723    Subject: re : research and development charges...\n",
      "5724    Subject: re : receipts from visit  jim ,  than...\n",
      "5725    Subject: re : enron case study update  wow ! a...\n",
      "5726    Subject: re : interest  david ,  please , call...\n",
      "5727    Subject: news : aurora 5 . 2 update  aurora ve...\n",
      "Name: text, Length: 5728, dtype: object\n"
     ]
    }
   ],
   "source": [
    "print(X)"
   ]
  },
  {
   "cell_type": "code",
   "execution_count": 9,
   "id": "574d08b5",
   "metadata": {
    "execution": {
     "iopub.execute_input": "2024-06-24T20:55:47.241771Z",
     "iopub.status.busy": "2024-06-24T20:55:47.240892Z",
     "iopub.status.idle": "2024-06-24T20:55:47.247783Z",
     "shell.execute_reply": "2024-06-24T20:55:47.246635Z"
    },
    "papermill": {
     "duration": 0.018986,
     "end_time": "2024-06-24T20:55:47.250668",
     "exception": false,
     "start_time": "2024-06-24T20:55:47.231682",
     "status": "completed"
    },
    "tags": []
   },
   "outputs": [
    {
     "name": "stdout",
     "output_type": "stream",
     "text": [
      "0       1\n",
      "1       1\n",
      "2       1\n",
      "3       1\n",
      "4       1\n",
      "       ..\n",
      "5723    0\n",
      "5724    0\n",
      "5725    0\n",
      "5726    0\n",
      "5727    0\n",
      "Name: spam, Length: 5728, dtype: int64\n"
     ]
    }
   ],
   "source": [
    "print(Y)"
   ]
  },
  {
   "cell_type": "code",
   "execution_count": 10,
   "id": "455fa68c",
   "metadata": {
    "execution": {
     "iopub.execute_input": "2024-06-24T20:55:47.268684Z",
     "iopub.status.busy": "2024-06-24T20:55:47.267930Z",
     "iopub.status.idle": "2024-06-24T20:55:47.280988Z",
     "shell.execute_reply": "2024-06-24T20:55:47.279729Z"
    },
    "papermill": {
     "duration": 0.025256,
     "end_time": "2024-06-24T20:55:47.283881",
     "exception": false,
     "start_time": "2024-06-24T20:55:47.258625",
     "status": "completed"
    },
    "tags": []
   },
   "outputs": [],
   "source": [
    "X_train,X_test,Y_train,Y_test=train_test_split(X,Y,test_size=0.2, stratify=Y, random_state=3)"
   ]
  },
  {
   "cell_type": "code",
   "execution_count": 11,
   "id": "0b3e129a",
   "metadata": {
    "execution": {
     "iopub.execute_input": "2024-06-24T20:55:47.302660Z",
     "iopub.status.busy": "2024-06-24T20:55:47.301718Z",
     "iopub.status.idle": "2024-06-24T20:55:47.307562Z",
     "shell.execute_reply": "2024-06-24T20:55:47.306543Z"
    },
    "papermill": {
     "duration": 0.0179,
     "end_time": "2024-06-24T20:55:47.309930",
     "exception": false,
     "start_time": "2024-06-24T20:55:47.292030",
     "status": "completed"
    },
    "tags": []
   },
   "outputs": [
    {
     "name": "stdout",
     "output_type": "stream",
     "text": [
      "(5728,) (4582,) (1146,)\n"
     ]
    }
   ],
   "source": [
    "print(X.shape,X_train.shape,X_test.shape)"
   ]
  },
  {
   "cell_type": "code",
   "execution_count": 12,
   "id": "2fc42f84",
   "metadata": {
    "execution": {
     "iopub.execute_input": "2024-06-24T20:55:47.328259Z",
     "iopub.status.busy": "2024-06-24T20:55:47.327320Z",
     "iopub.status.idle": "2024-06-24T20:55:49.130545Z",
     "shell.execute_reply": "2024-06-24T20:55:49.129342Z"
    },
    "papermill": {
     "duration": 1.81551,
     "end_time": "2024-06-24T20:55:49.133427",
     "exception": false,
     "start_time": "2024-06-24T20:55:47.317917",
     "status": "completed"
    },
    "tags": []
   },
   "outputs": [],
   "source": [
    "feature_extraction=TfidfVectorizer(min_df=1, stop_words='english',lowercase=True)\n",
    "X_train_features=feature_extraction.fit_transform(X_train)\n",
    "X_test_features=feature_extraction.transform(X_test)\n",
    "\n",
    "#convert y train and y test val as integer\n",
    "Y_train=Y_train.astype('int')\n",
    "Y_test=Y_test.astype('int')"
   ]
  },
  {
   "cell_type": "code",
   "execution_count": 13,
   "id": "51e4e367",
   "metadata": {
    "execution": {
     "iopub.execute_input": "2024-06-24T20:55:49.152304Z",
     "iopub.status.busy": "2024-06-24T20:55:49.151150Z",
     "iopub.status.idle": "2024-06-24T20:55:49.163145Z",
     "shell.execute_reply": "2024-06-24T20:55:49.161773Z"
    },
    "papermill": {
     "duration": 0.024113,
     "end_time": "2024-06-24T20:55:49.165697",
     "exception": false,
     "start_time": "2024-06-24T20:55:49.141584",
     "status": "completed"
    },
    "tags": []
   },
   "outputs": [
    {
     "name": "stdout",
     "output_type": "stream",
     "text": [
      "  (0, 1588)\t0.08440951170025235\n",
      "  (0, 13060)\t0.029867736058037983\n",
      "  (0, 1787)\t0.08440951170025235\n",
      "  (0, 2599)\t0.06793960424045907\n",
      "  (0, 2929)\t0.056220353334207766\n",
      "  (0, 13795)\t0.030197620300094583\n",
      "  (0, 30616)\t0.06265933772624638\n",
      "  (0, 1589)\t0.07771288011473226\n",
      "  (0, 1416)\t0.12746782103683157\n",
      "  (0, 2859)\t0.1420324970584244\n",
      "  (0, 23362)\t0.0301447786158807\n",
      "  (0, 3017)\t0.08440951170025235\n",
      "  (0, 6851)\t0.042697407716999876\n",
      "  (0, 5615)\t0.0649431363220491\n",
      "  (0, 28377)\t0.08440951170025235\n",
      "  (0, 5220)\t0.05648506022634394\n",
      "  (0, 3356)\t0.08440951170025235\n",
      "  (0, 321)\t0.06081351541178408\n",
      "  (0, 28406)\t0.049523721748687695\n",
      "  (0, 29158)\t0.05331131766119404\n",
      "  (0, 16793)\t0.03738330159838651\n",
      "  (0, 24216)\t0.039726737403181486\n",
      "  (0, 26647)\t0.08440951170025235\n",
      "  (0, 6474)\t0.11524597071634415\n",
      "  (0, 8938)\t0.045348796196532135\n",
      "  :\t:\n",
      "  (4581, 19766)\t0.09441348234938238\n",
      "  (4581, 30276)\t0.023222917551896056\n",
      "  (4581, 136)\t0.02476433175808465\n",
      "  (4581, 23675)\t0.01796092447156801\n",
      "  (4581, 9069)\t0.04809111302521479\n",
      "  (4581, 22265)\t0.027804895566879838\n",
      "  (4581, 29910)\t0.10416272366080667\n",
      "  (4581, 29556)\t0.029005708335658627\n",
      "  (4581, 19420)\t0.022228575083607913\n",
      "  (4581, 10080)\t0.04720674117469119\n",
      "  (4581, 14078)\t0.04923591285817772\n",
      "  (4581, 28724)\t0.03887734788908408\n",
      "  (4581, 31873)\t0.07169398028326149\n",
      "  (4581, 23853)\t0.22451145401584255\n",
      "  (4581, 8839)\t0.03980839473004554\n",
      "  (4581, 19351)\t0.021773846855730968\n",
      "  (4581, 9770)\t0.03262828413054005\n",
      "  (4581, 7311)\t0.01587996916144117\n",
      "  (4581, 11495)\t0.036582560302778615\n",
      "  (4581, 15711)\t0.018793667295840786\n",
      "  (4581, 17680)\t0.016734278460233273\n",
      "  (4581, 820)\t0.02144424049006956\n",
      "  (4581, 12080)\t0.11565319345457815\n",
      "  (4581, 32127)\t0.0278681875064016\n",
      "  (4581, 29306)\t0.016148469448148364\n"
     ]
    }
   ],
   "source": [
    "print(X_train_features)"
   ]
  },
  {
   "cell_type": "code",
   "execution_count": 14,
   "id": "43e2339c",
   "metadata": {
    "execution": {
     "iopub.execute_input": "2024-06-24T20:55:49.184017Z",
     "iopub.status.busy": "2024-06-24T20:55:49.183555Z",
     "iopub.status.idle": "2024-06-24T20:55:49.188902Z",
     "shell.execute_reply": "2024-06-24T20:55:49.187774Z"
    },
    "papermill": {
     "duration": 0.017376,
     "end_time": "2024-06-24T20:55:49.191302",
     "exception": false,
     "start_time": "2024-06-24T20:55:49.173926",
     "status": "completed"
    },
    "tags": []
   },
   "outputs": [],
   "source": [
    "model = LogisticRegression(max_iter=2200) "
   ]
  },
  {
   "cell_type": "code",
   "execution_count": 15,
   "id": "b7e34c21",
   "metadata": {
    "execution": {
     "iopub.execute_input": "2024-06-24T20:55:49.210883Z",
     "iopub.status.busy": "2024-06-24T20:55:49.210441Z",
     "iopub.status.idle": "2024-06-24T20:55:49.990166Z",
     "shell.execute_reply": "2024-06-24T20:55:49.988611Z"
    },
    "papermill": {
     "duration": 0.794385,
     "end_time": "2024-06-24T20:55:49.994448",
     "exception": false,
     "start_time": "2024-06-24T20:55:49.200063",
     "status": "completed"
    },
    "tags": []
   },
   "outputs": [
    {
     "data": {
      "text/html": [
       "<style>#sk-container-id-1 {color: black;background-color: white;}#sk-container-id-1 pre{padding: 0;}#sk-container-id-1 div.sk-toggleable {background-color: white;}#sk-container-id-1 label.sk-toggleable__label {cursor: pointer;display: block;width: 100%;margin-bottom: 0;padding: 0.3em;box-sizing: border-box;text-align: center;}#sk-container-id-1 label.sk-toggleable__label-arrow:before {content: \"▸\";float: left;margin-right: 0.25em;color: #696969;}#sk-container-id-1 label.sk-toggleable__label-arrow:hover:before {color: black;}#sk-container-id-1 div.sk-estimator:hover label.sk-toggleable__label-arrow:before {color: black;}#sk-container-id-1 div.sk-toggleable__content {max-height: 0;max-width: 0;overflow: hidden;text-align: left;background-color: #f0f8ff;}#sk-container-id-1 div.sk-toggleable__content pre {margin: 0.2em;color: black;border-radius: 0.25em;background-color: #f0f8ff;}#sk-container-id-1 input.sk-toggleable__control:checked~div.sk-toggleable__content {max-height: 200px;max-width: 100%;overflow: auto;}#sk-container-id-1 input.sk-toggleable__control:checked~label.sk-toggleable__label-arrow:before {content: \"▾\";}#sk-container-id-1 div.sk-estimator input.sk-toggleable__control:checked~label.sk-toggleable__label {background-color: #d4ebff;}#sk-container-id-1 div.sk-label input.sk-toggleable__control:checked~label.sk-toggleable__label {background-color: #d4ebff;}#sk-container-id-1 input.sk-hidden--visually {border: 0;clip: rect(1px 1px 1px 1px);clip: rect(1px, 1px, 1px, 1px);height: 1px;margin: -1px;overflow: hidden;padding: 0;position: absolute;width: 1px;}#sk-container-id-1 div.sk-estimator {font-family: monospace;background-color: #f0f8ff;border: 1px dotted black;border-radius: 0.25em;box-sizing: border-box;margin-bottom: 0.5em;}#sk-container-id-1 div.sk-estimator:hover {background-color: #d4ebff;}#sk-container-id-1 div.sk-parallel-item::after {content: \"\";width: 100%;border-bottom: 1px solid gray;flex-grow: 1;}#sk-container-id-1 div.sk-label:hover label.sk-toggleable__label {background-color: #d4ebff;}#sk-container-id-1 div.sk-serial::before {content: \"\";position: absolute;border-left: 1px solid gray;box-sizing: border-box;top: 0;bottom: 0;left: 50%;z-index: 0;}#sk-container-id-1 div.sk-serial {display: flex;flex-direction: column;align-items: center;background-color: white;padding-right: 0.2em;padding-left: 0.2em;position: relative;}#sk-container-id-1 div.sk-item {position: relative;z-index: 1;}#sk-container-id-1 div.sk-parallel {display: flex;align-items: stretch;justify-content: center;background-color: white;position: relative;}#sk-container-id-1 div.sk-item::before, #sk-container-id-1 div.sk-parallel-item::before {content: \"\";position: absolute;border-left: 1px solid gray;box-sizing: border-box;top: 0;bottom: 0;left: 50%;z-index: -1;}#sk-container-id-1 div.sk-parallel-item {display: flex;flex-direction: column;z-index: 1;position: relative;background-color: white;}#sk-container-id-1 div.sk-parallel-item:first-child::after {align-self: flex-end;width: 50%;}#sk-container-id-1 div.sk-parallel-item:last-child::after {align-self: flex-start;width: 50%;}#sk-container-id-1 div.sk-parallel-item:only-child::after {width: 0;}#sk-container-id-1 div.sk-dashed-wrapped {border: 1px dashed gray;margin: 0 0.4em 0.5em 0.4em;box-sizing: border-box;padding-bottom: 0.4em;background-color: white;}#sk-container-id-1 div.sk-label label {font-family: monospace;font-weight: bold;display: inline-block;line-height: 1.2em;}#sk-container-id-1 div.sk-label-container {text-align: center;}#sk-container-id-1 div.sk-container {/* jupyter's `normalize.less` sets `[hidden] { display: none; }` but bootstrap.min.css set `[hidden] { display: none !important; }` so we also need the `!important` here to be able to override the default hidden behavior on the sphinx rendered scikit-learn.org. See: https://github.com/scikit-learn/scikit-learn/issues/21755 */display: inline-block !important;position: relative;}#sk-container-id-1 div.sk-text-repr-fallback {display: none;}</style><div id=\"sk-container-id-1\" class=\"sk-top-container\"><div class=\"sk-text-repr-fallback\"><pre>LogisticRegression(max_iter=2200)</pre><b>In a Jupyter environment, please rerun this cell to show the HTML representation or trust the notebook. <br />On GitHub, the HTML representation is unable to render, please try loading this page with nbviewer.org.</b></div><div class=\"sk-container\" hidden><div class=\"sk-item\"><div class=\"sk-estimator sk-toggleable\"><input class=\"sk-toggleable__control sk-hidden--visually\" id=\"sk-estimator-id-1\" type=\"checkbox\" checked><label for=\"sk-estimator-id-1\" class=\"sk-toggleable__label sk-toggleable__label-arrow\">LogisticRegression</label><div class=\"sk-toggleable__content\"><pre>LogisticRegression(max_iter=2200)</pre></div></div></div></div></div>"
      ],
      "text/plain": [
       "LogisticRegression(max_iter=2200)"
      ]
     },
     "execution_count": 15,
     "metadata": {},
     "output_type": "execute_result"
    }
   ],
   "source": [
    "model.fit(X_train_features,Y_train)"
   ]
  },
  {
   "cell_type": "code",
   "execution_count": 16,
   "id": "f89559ef",
   "metadata": {
    "execution": {
     "iopub.execute_input": "2024-06-24T20:55:50.065397Z",
     "iopub.status.busy": "2024-06-24T20:55:50.064652Z",
     "iopub.status.idle": "2024-06-24T20:55:50.076755Z",
     "shell.execute_reply": "2024-06-24T20:55:50.075379Z"
    },
    "papermill": {
     "duration": 0.056137,
     "end_time": "2024-06-24T20:55:50.081540",
     "exception": false,
     "start_time": "2024-06-24T20:55:50.025403",
     "status": "completed"
    },
    "tags": []
   },
   "outputs": [],
   "source": [
    "X_train_prediction= model.predict(X_train_features)\n",
    "training_data_accuracy=accuracy_score(X_train_prediction,Y_train)"
   ]
  },
  {
   "cell_type": "code",
   "execution_count": 17,
   "id": "83611ce1",
   "metadata": {
    "execution": {
     "iopub.execute_input": "2024-06-24T20:55:50.101495Z",
     "iopub.status.busy": "2024-06-24T20:55:50.101095Z",
     "iopub.status.idle": "2024-06-24T20:55:50.107052Z",
     "shell.execute_reply": "2024-06-24T20:55:50.105895Z"
    },
    "papermill": {
     "duration": 0.019508,
     "end_time": "2024-06-24T20:55:50.110004",
     "exception": false,
     "start_time": "2024-06-24T20:55:50.090496",
     "status": "completed"
    },
    "tags": []
   },
   "outputs": [
    {
     "name": "stdout",
     "output_type": "stream",
     "text": [
      "accuracy of our training data 0.9967263203841118\n"
     ]
    }
   ],
   "source": [
    "print('accuracy of our training data',training_data_accuracy)"
   ]
  },
  {
   "cell_type": "code",
   "execution_count": 18,
   "id": "cdb48142",
   "metadata": {
    "execution": {
     "iopub.execute_input": "2024-06-24T20:55:50.129355Z",
     "iopub.status.busy": "2024-06-24T20:55:50.128912Z",
     "iopub.status.idle": "2024-06-24T20:55:50.136861Z",
     "shell.execute_reply": "2024-06-24T20:55:50.135601Z"
    },
    "papermill": {
     "duration": 0.021089,
     "end_time": "2024-06-24T20:55:50.139731",
     "exception": false,
     "start_time": "2024-06-24T20:55:50.118642",
     "status": "completed"
    },
    "tags": []
   },
   "outputs": [],
   "source": [
    "X_test_prediction= model.predict(X_test_features)\n",
    "test_data_accuracy=accuracy_score(X_test_prediction,Y_test)"
   ]
  },
  {
   "cell_type": "code",
   "execution_count": 19,
   "id": "8528a8eb",
   "metadata": {
    "execution": {
     "iopub.execute_input": "2024-06-24T20:55:50.159989Z",
     "iopub.status.busy": "2024-06-24T20:55:50.159536Z",
     "iopub.status.idle": "2024-06-24T20:55:50.165281Z",
     "shell.execute_reply": "2024-06-24T20:55:50.164199Z"
    },
    "papermill": {
     "duration": 0.01926,
     "end_time": "2024-06-24T20:55:50.168381",
     "exception": false,
     "start_time": "2024-06-24T20:55:50.149121",
     "status": "completed"
    },
    "tags": []
   },
   "outputs": [
    {
     "name": "stdout",
     "output_type": "stream",
     "text": [
      "accuracy of our test data 0.9842931937172775\n"
     ]
    }
   ],
   "source": [
    "print('accuracy of our test data',test_data_accuracy)"
   ]
  },
  {
   "cell_type": "code",
   "execution_count": 20,
   "id": "dd9aae08",
   "metadata": {
    "execution": {
     "iopub.execute_input": "2024-06-24T20:55:50.187618Z",
     "iopub.status.busy": "2024-06-24T20:55:50.187172Z",
     "iopub.status.idle": "2024-06-24T20:55:50.283996Z",
     "shell.execute_reply": "2024-06-24T20:55:50.282636Z"
    },
    "papermill": {
     "duration": 0.109788,
     "end_time": "2024-06-24T20:55:50.286941",
     "exception": false,
     "start_time": "2024-06-24T20:55:50.177153",
     "status": "completed"
    },
    "tags": []
   },
   "outputs": [],
   "source": [
    "res=X_test.copy()\n",
    "res['actual']=Y_test\n",
    "res['prediction']=X_test_prediction\n",
    "\n",
    "res.to_csv('submission.csv',index=False)"
   ]
  }
 ],
 "metadata": {
  "kaggle": {
   "accelerator": "none",
   "dataSources": [
    {
     "datasetId": 3690036,
     "sourceId": 6399975,
     "sourceType": "datasetVersion"
    }
   ],
   "dockerImageVersionId": 30732,
   "isGpuEnabled": false,
   "isInternetEnabled": true,
   "language": "python",
   "sourceType": "notebook"
  },
  "kernelspec": {
   "display_name": "Python 3",
   "language": "python",
   "name": "python3"
  },
  "language_info": {
   "codemirror_mode": {
    "name": "ipython",
    "version": 3
   },
   "file_extension": ".py",
   "mimetype": "text/x-python",
   "name": "python",
   "nbconvert_exporter": "python",
   "pygments_lexer": "ipython3",
   "version": "3.10.13"
  },
  "papermill": {
   "default_parameters": {},
   "duration": 10.323444,
   "end_time": "2024-06-24T20:55:50.918731",
   "environment_variables": {},
   "exception": null,
   "input_path": "__notebook__.ipynb",
   "output_path": "__notebook__.ipynb",
   "parameters": {},
   "start_time": "2024-06-24T20:55:40.595287",
   "version": "2.5.0"
  }
 },
 "nbformat": 4,
 "nbformat_minor": 5
}
