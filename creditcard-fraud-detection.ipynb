{
 "cells": [
  {
   "cell_type": "code",
   "execution_count": 1,
   "id": "ae304dbe",
   "metadata": {
    "_cell_guid": "b1076dfc-b9ad-4769-8c92-a6c4dae69d19",
    "_uuid": "8f2839f25d086af736a60e9eeb907d3b93b6e0e5",
    "execution": {
     "iopub.execute_input": "2024-06-24T19:55:13.896671Z",
     "iopub.status.busy": "2024-06-24T19:55:13.896148Z",
     "iopub.status.idle": "2024-06-24T19:55:16.609701Z",
     "shell.execute_reply": "2024-06-24T19:55:16.607941Z"
    },
    "papermill": {
     "duration": 2.72805,
     "end_time": "2024-06-24T19:55:16.613237",
     "exception": false,
     "start_time": "2024-06-24T19:55:13.885187",
     "status": "completed"
    },
    "tags": []
   },
   "outputs": [
    {
     "name": "stdout",
     "output_type": "stream",
     "text": [
      "/kaggle/input/creditcardfraud/creditcard.csv\n"
     ]
    }
   ],
   "source": [
    "# This Python 3 environment comes with many helpful analytics libraries installed\n",
    "# It is defined by the kaggle/python Docker image: https://github.com/kaggle/docker-python\n",
    "# For example, here's several helpful packages to load\n",
    "\n",
    "import numpy as np # linear algebra\n",
    "import pandas as pd  # data processing, CSV file I/O (e.g. pd.read_csv)\n",
    "from sklearn.model_selection import train_test_split\n",
    "from sklearn.linear_model import LogisticRegression\n",
    "from sklearn.metrics import accuracy_score\n",
    "\n",
    "# Input data files are available in the read-only \"../input/\" directory\n",
    "# For example, running this (by clicking run or pressing Shift+Enter) will list all files under the input directory\n",
    "\n",
    "import os\n",
    "for dirname, _, filenames in os.walk('/kaggle/input'):\n",
    "    for filename in filenames:\n",
    "        print(os.path.join(dirname, filename))\n",
    "\n",
    "# You can write up to 20GB to the current directory (/kaggle/working/) that gets preserved as output when you create a version using \"Save & Run All\" \n",
    "# You can also write temporary files to /kaggle/temp/, but they won't be saved outside of the current session"
   ]
  },
  {
   "cell_type": "code",
   "execution_count": 2,
   "id": "860f25e2",
   "metadata": {
    "execution": {
     "iopub.execute_input": "2024-06-24T19:55:16.633575Z",
     "iopub.status.busy": "2024-06-24T19:55:16.632947Z",
     "iopub.status.idle": "2024-06-24T19:55:21.859506Z",
     "shell.execute_reply": "2024-06-24T19:55:21.857938Z"
    },
    "papermill": {
     "duration": 5.240527,
     "end_time": "2024-06-24T19:55:21.862882",
     "exception": false,
     "start_time": "2024-06-24T19:55:16.622355",
     "status": "completed"
    },
    "tags": []
   },
   "outputs": [],
   "source": [
    "credit_data= pd.read_csv('/kaggle/input/creditcardfraud/creditcard.csv')"
   ]
  },
  {
   "cell_type": "code",
   "execution_count": 3,
   "id": "8d994f99",
   "metadata": {
    "execution": {
     "iopub.execute_input": "2024-06-24T19:55:21.882338Z",
     "iopub.status.busy": "2024-06-24T19:55:21.881914Z",
     "iopub.status.idle": "2024-06-24T19:55:21.928277Z",
     "shell.execute_reply": "2024-06-24T19:55:21.926913Z"
    },
    "papermill": {
     "duration": 0.059424,
     "end_time": "2024-06-24T19:55:21.931132",
     "exception": false,
     "start_time": "2024-06-24T19:55:21.871708",
     "status": "completed"
    },
    "tags": []
   },
   "outputs": [
    {
     "data": {
      "text/html": [
       "<div>\n",
       "<style scoped>\n",
       "    .dataframe tbody tr th:only-of-type {\n",
       "        vertical-align: middle;\n",
       "    }\n",
       "\n",
       "    .dataframe tbody tr th {\n",
       "        vertical-align: top;\n",
       "    }\n",
       "\n",
       "    .dataframe thead th {\n",
       "        text-align: right;\n",
       "    }\n",
       "</style>\n",
       "<table border=\"1\" class=\"dataframe\">\n",
       "  <thead>\n",
       "    <tr style=\"text-align: right;\">\n",
       "      <th></th>\n",
       "      <th>Time</th>\n",
       "      <th>V1</th>\n",
       "      <th>V2</th>\n",
       "      <th>V3</th>\n",
       "      <th>V4</th>\n",
       "      <th>V5</th>\n",
       "      <th>V6</th>\n",
       "      <th>V7</th>\n",
       "      <th>V8</th>\n",
       "      <th>V9</th>\n",
       "      <th>...</th>\n",
       "      <th>V21</th>\n",
       "      <th>V22</th>\n",
       "      <th>V23</th>\n",
       "      <th>V24</th>\n",
       "      <th>V25</th>\n",
       "      <th>V26</th>\n",
       "      <th>V27</th>\n",
       "      <th>V28</th>\n",
       "      <th>Amount</th>\n",
       "      <th>Class</th>\n",
       "    </tr>\n",
       "  </thead>\n",
       "  <tbody>\n",
       "    <tr>\n",
       "      <th>0</th>\n",
       "      <td>0.0</td>\n",
       "      <td>-1.359807</td>\n",
       "      <td>-0.072781</td>\n",
       "      <td>2.536347</td>\n",
       "      <td>1.378155</td>\n",
       "      <td>-0.338321</td>\n",
       "      <td>0.462388</td>\n",
       "      <td>0.239599</td>\n",
       "      <td>0.098698</td>\n",
       "      <td>0.363787</td>\n",
       "      <td>...</td>\n",
       "      <td>-0.018307</td>\n",
       "      <td>0.277838</td>\n",
       "      <td>-0.110474</td>\n",
       "      <td>0.066928</td>\n",
       "      <td>0.128539</td>\n",
       "      <td>-0.189115</td>\n",
       "      <td>0.133558</td>\n",
       "      <td>-0.021053</td>\n",
       "      <td>149.62</td>\n",
       "      <td>0</td>\n",
       "    </tr>\n",
       "    <tr>\n",
       "      <th>1</th>\n",
       "      <td>0.0</td>\n",
       "      <td>1.191857</td>\n",
       "      <td>0.266151</td>\n",
       "      <td>0.166480</td>\n",
       "      <td>0.448154</td>\n",
       "      <td>0.060018</td>\n",
       "      <td>-0.082361</td>\n",
       "      <td>-0.078803</td>\n",
       "      <td>0.085102</td>\n",
       "      <td>-0.255425</td>\n",
       "      <td>...</td>\n",
       "      <td>-0.225775</td>\n",
       "      <td>-0.638672</td>\n",
       "      <td>0.101288</td>\n",
       "      <td>-0.339846</td>\n",
       "      <td>0.167170</td>\n",
       "      <td>0.125895</td>\n",
       "      <td>-0.008983</td>\n",
       "      <td>0.014724</td>\n",
       "      <td>2.69</td>\n",
       "      <td>0</td>\n",
       "    </tr>\n",
       "    <tr>\n",
       "      <th>2</th>\n",
       "      <td>1.0</td>\n",
       "      <td>-1.358354</td>\n",
       "      <td>-1.340163</td>\n",
       "      <td>1.773209</td>\n",
       "      <td>0.379780</td>\n",
       "      <td>-0.503198</td>\n",
       "      <td>1.800499</td>\n",
       "      <td>0.791461</td>\n",
       "      <td>0.247676</td>\n",
       "      <td>-1.514654</td>\n",
       "      <td>...</td>\n",
       "      <td>0.247998</td>\n",
       "      <td>0.771679</td>\n",
       "      <td>0.909412</td>\n",
       "      <td>-0.689281</td>\n",
       "      <td>-0.327642</td>\n",
       "      <td>-0.139097</td>\n",
       "      <td>-0.055353</td>\n",
       "      <td>-0.059752</td>\n",
       "      <td>378.66</td>\n",
       "      <td>0</td>\n",
       "    </tr>\n",
       "    <tr>\n",
       "      <th>3</th>\n",
       "      <td>1.0</td>\n",
       "      <td>-0.966272</td>\n",
       "      <td>-0.185226</td>\n",
       "      <td>1.792993</td>\n",
       "      <td>-0.863291</td>\n",
       "      <td>-0.010309</td>\n",
       "      <td>1.247203</td>\n",
       "      <td>0.237609</td>\n",
       "      <td>0.377436</td>\n",
       "      <td>-1.387024</td>\n",
       "      <td>...</td>\n",
       "      <td>-0.108300</td>\n",
       "      <td>0.005274</td>\n",
       "      <td>-0.190321</td>\n",
       "      <td>-1.175575</td>\n",
       "      <td>0.647376</td>\n",
       "      <td>-0.221929</td>\n",
       "      <td>0.062723</td>\n",
       "      <td>0.061458</td>\n",
       "      <td>123.50</td>\n",
       "      <td>0</td>\n",
       "    </tr>\n",
       "    <tr>\n",
       "      <th>4</th>\n",
       "      <td>2.0</td>\n",
       "      <td>-1.158233</td>\n",
       "      <td>0.877737</td>\n",
       "      <td>1.548718</td>\n",
       "      <td>0.403034</td>\n",
       "      <td>-0.407193</td>\n",
       "      <td>0.095921</td>\n",
       "      <td>0.592941</td>\n",
       "      <td>-0.270533</td>\n",
       "      <td>0.817739</td>\n",
       "      <td>...</td>\n",
       "      <td>-0.009431</td>\n",
       "      <td>0.798278</td>\n",
       "      <td>-0.137458</td>\n",
       "      <td>0.141267</td>\n",
       "      <td>-0.206010</td>\n",
       "      <td>0.502292</td>\n",
       "      <td>0.219422</td>\n",
       "      <td>0.215153</td>\n",
       "      <td>69.99</td>\n",
       "      <td>0</td>\n",
       "    </tr>\n",
       "  </tbody>\n",
       "</table>\n",
       "<p>5 rows × 31 columns</p>\n",
       "</div>"
      ],
      "text/plain": [
       "   Time        V1        V2        V3        V4        V5        V6        V7  \\\n",
       "0   0.0 -1.359807 -0.072781  2.536347  1.378155 -0.338321  0.462388  0.239599   \n",
       "1   0.0  1.191857  0.266151  0.166480  0.448154  0.060018 -0.082361 -0.078803   \n",
       "2   1.0 -1.358354 -1.340163  1.773209  0.379780 -0.503198  1.800499  0.791461   \n",
       "3   1.0 -0.966272 -0.185226  1.792993 -0.863291 -0.010309  1.247203  0.237609   \n",
       "4   2.0 -1.158233  0.877737  1.548718  0.403034 -0.407193  0.095921  0.592941   \n",
       "\n",
       "         V8        V9  ...       V21       V22       V23       V24       V25  \\\n",
       "0  0.098698  0.363787  ... -0.018307  0.277838 -0.110474  0.066928  0.128539   \n",
       "1  0.085102 -0.255425  ... -0.225775 -0.638672  0.101288 -0.339846  0.167170   \n",
       "2  0.247676 -1.514654  ...  0.247998  0.771679  0.909412 -0.689281 -0.327642   \n",
       "3  0.377436 -1.387024  ... -0.108300  0.005274 -0.190321 -1.175575  0.647376   \n",
       "4 -0.270533  0.817739  ... -0.009431  0.798278 -0.137458  0.141267 -0.206010   \n",
       "\n",
       "        V26       V27       V28  Amount  Class  \n",
       "0 -0.189115  0.133558 -0.021053  149.62      0  \n",
       "1  0.125895 -0.008983  0.014724    2.69      0  \n",
       "2 -0.139097 -0.055353 -0.059752  378.66      0  \n",
       "3 -0.221929  0.062723  0.061458  123.50      0  \n",
       "4  0.502292  0.219422  0.215153   69.99      0  \n",
       "\n",
       "[5 rows x 31 columns]"
      ]
     },
     "execution_count": 3,
     "metadata": {},
     "output_type": "execute_result"
    }
   ],
   "source": [
    "credit_data.head()"
   ]
  },
  {
   "cell_type": "code",
   "execution_count": 4,
   "id": "57c0dbf0",
   "metadata": {
    "execution": {
     "iopub.execute_input": "2024-06-24T19:55:21.951275Z",
     "iopub.status.busy": "2024-06-24T19:55:21.950838Z",
     "iopub.status.idle": "2024-06-24T19:55:21.969741Z",
     "shell.execute_reply": "2024-06-24T19:55:21.968281Z"
    },
    "papermill": {
     "duration": 0.032542,
     "end_time": "2024-06-24T19:55:21.972882",
     "exception": false,
     "start_time": "2024-06-24T19:55:21.940340",
     "status": "completed"
    },
    "tags": []
   },
   "outputs": [
    {
     "data": {
      "text/plain": [
       "Class\n",
       "0    284315\n",
       "1       492\n",
       "Name: count, dtype: int64"
      ]
     },
     "execution_count": 4,
     "metadata": {},
     "output_type": "execute_result"
    }
   ],
   "source": [
    "credit_data['Class'].value_counts()\n",
    "#we can see here this data set is highly unbalanced and  our model will give wrong output so we have to preprocess"
   ]
  },
  {
   "cell_type": "code",
   "execution_count": 5,
   "id": "b223fd8b",
   "metadata": {
    "execution": {
     "iopub.execute_input": "2024-06-24T19:55:21.993786Z",
     "iopub.status.busy": "2024-06-24T19:55:21.993380Z",
     "iopub.status.idle": "2024-06-24T19:55:22.050305Z",
     "shell.execute_reply": "2024-06-24T19:55:22.048754Z"
    },
    "papermill": {
     "duration": 0.071351,
     "end_time": "2024-06-24T19:55:22.053750",
     "exception": false,
     "start_time": "2024-06-24T19:55:21.982399",
     "status": "completed"
    },
    "tags": []
   },
   "outputs": [],
   "source": [
    "#seperating the data for analysis into normal and fraudful transaction\n",
    "legit=credit_data[credit_data.Class==0]\n",
    "fraud=credit_data[credit_data.Class==1]"
   ]
  },
  {
   "cell_type": "code",
   "execution_count": 6,
   "id": "5617d02b",
   "metadata": {
    "execution": {
     "iopub.execute_input": "2024-06-24T19:55:22.074539Z",
     "iopub.status.busy": "2024-06-24T19:55:22.074152Z",
     "iopub.status.idle": "2024-06-24T19:55:22.103624Z",
     "shell.execute_reply": "2024-06-24T19:55:22.102461Z"
    },
    "papermill": {
     "duration": 0.042955,
     "end_time": "2024-06-24T19:55:22.106239",
     "exception": false,
     "start_time": "2024-06-24T19:55:22.063284",
     "status": "completed"
    },
    "tags": []
   },
   "outputs": [
    {
     "data": {
      "text/plain": [
       "count    284315.000000\n",
       "mean         88.291022\n",
       "std         250.105092\n",
       "min           0.000000\n",
       "25%           5.650000\n",
       "50%          22.000000\n",
       "75%          77.050000\n",
       "max       25691.160000\n",
       "Name: Amount, dtype: float64"
      ]
     },
     "execution_count": 6,
     "metadata": {},
     "output_type": "execute_result"
    }
   ],
   "source": [
    "#mean of fraud transaction is v high than the normal transaction\n",
    "legit.Amount.describe()"
   ]
  },
  {
   "cell_type": "code",
   "execution_count": 7,
   "id": "ff0402b8",
   "metadata": {
    "execution": {
     "iopub.execute_input": "2024-06-24T19:55:22.127723Z",
     "iopub.status.busy": "2024-06-24T19:55:22.127230Z",
     "iopub.status.idle": "2024-06-24T19:55:22.141338Z",
     "shell.execute_reply": "2024-06-24T19:55:22.139770Z"
    },
    "papermill": {
     "duration": 0.028212,
     "end_time": "2024-06-24T19:55:22.144110",
     "exception": false,
     "start_time": "2024-06-24T19:55:22.115898",
     "status": "completed"
    },
    "tags": []
   },
   "outputs": [
    {
     "data": {
      "text/plain": [
       "count     492.000000\n",
       "mean      122.211321\n",
       "std       256.683288\n",
       "min         0.000000\n",
       "25%         1.000000\n",
       "50%         9.250000\n",
       "75%       105.890000\n",
       "max      2125.870000\n",
       "Name: Amount, dtype: float64"
      ]
     },
     "execution_count": 7,
     "metadata": {},
     "output_type": "execute_result"
    }
   ],
   "source": [
    "fraud.Amount.describe()"
   ]
  },
  {
   "cell_type": "code",
   "execution_count": 8,
   "id": "1ba6cbd5",
   "metadata": {
    "execution": {
     "iopub.execute_input": "2024-06-24T19:55:22.168509Z",
     "iopub.status.busy": "2024-06-24T19:55:22.167952Z",
     "iopub.status.idle": "2024-06-24T19:55:22.379217Z",
     "shell.execute_reply": "2024-06-24T19:55:22.377770Z"
    },
    "papermill": {
     "duration": 0.228987,
     "end_time": "2024-06-24T19:55:22.382586",
     "exception": false,
     "start_time": "2024-06-24T19:55:22.153599",
     "status": "completed"
    },
    "tags": []
   },
   "outputs": [
    {
     "data": {
      "text/html": [
       "<div>\n",
       "<style scoped>\n",
       "    .dataframe tbody tr th:only-of-type {\n",
       "        vertical-align: middle;\n",
       "    }\n",
       "\n",
       "    .dataframe tbody tr th {\n",
       "        vertical-align: top;\n",
       "    }\n",
       "\n",
       "    .dataframe thead th {\n",
       "        text-align: right;\n",
       "    }\n",
       "</style>\n",
       "<table border=\"1\" class=\"dataframe\">\n",
       "  <thead>\n",
       "    <tr style=\"text-align: right;\">\n",
       "      <th></th>\n",
       "      <th>Time</th>\n",
       "      <th>V1</th>\n",
       "      <th>V2</th>\n",
       "      <th>V3</th>\n",
       "      <th>V4</th>\n",
       "      <th>V5</th>\n",
       "      <th>V6</th>\n",
       "      <th>V7</th>\n",
       "      <th>V8</th>\n",
       "      <th>V9</th>\n",
       "      <th>...</th>\n",
       "      <th>V20</th>\n",
       "      <th>V21</th>\n",
       "      <th>V22</th>\n",
       "      <th>V23</th>\n",
       "      <th>V24</th>\n",
       "      <th>V25</th>\n",
       "      <th>V26</th>\n",
       "      <th>V27</th>\n",
       "      <th>V28</th>\n",
       "      <th>Amount</th>\n",
       "    </tr>\n",
       "    <tr>\n",
       "      <th>Class</th>\n",
       "      <th></th>\n",
       "      <th></th>\n",
       "      <th></th>\n",
       "      <th></th>\n",
       "      <th></th>\n",
       "      <th></th>\n",
       "      <th></th>\n",
       "      <th></th>\n",
       "      <th></th>\n",
       "      <th></th>\n",
       "      <th></th>\n",
       "      <th></th>\n",
       "      <th></th>\n",
       "      <th></th>\n",
       "      <th></th>\n",
       "      <th></th>\n",
       "      <th></th>\n",
       "      <th></th>\n",
       "      <th></th>\n",
       "      <th></th>\n",
       "      <th></th>\n",
       "    </tr>\n",
       "  </thead>\n",
       "  <tbody>\n",
       "    <tr>\n",
       "      <th>0</th>\n",
       "      <td>94838.202258</td>\n",
       "      <td>0.008258</td>\n",
       "      <td>-0.006271</td>\n",
       "      <td>0.012171</td>\n",
       "      <td>-0.007860</td>\n",
       "      <td>0.005453</td>\n",
       "      <td>0.002419</td>\n",
       "      <td>0.009637</td>\n",
       "      <td>-0.000987</td>\n",
       "      <td>0.004467</td>\n",
       "      <td>...</td>\n",
       "      <td>-0.000644</td>\n",
       "      <td>-0.001235</td>\n",
       "      <td>-0.000024</td>\n",
       "      <td>0.000070</td>\n",
       "      <td>0.000182</td>\n",
       "      <td>-0.000072</td>\n",
       "      <td>-0.000089</td>\n",
       "      <td>-0.000295</td>\n",
       "      <td>-0.000131</td>\n",
       "      <td>88.291022</td>\n",
       "    </tr>\n",
       "    <tr>\n",
       "      <th>1</th>\n",
       "      <td>80746.806911</td>\n",
       "      <td>-4.771948</td>\n",
       "      <td>3.623778</td>\n",
       "      <td>-7.033281</td>\n",
       "      <td>4.542029</td>\n",
       "      <td>-3.151225</td>\n",
       "      <td>-1.397737</td>\n",
       "      <td>-5.568731</td>\n",
       "      <td>0.570636</td>\n",
       "      <td>-2.581123</td>\n",
       "      <td>...</td>\n",
       "      <td>0.372319</td>\n",
       "      <td>0.713588</td>\n",
       "      <td>0.014049</td>\n",
       "      <td>-0.040308</td>\n",
       "      <td>-0.105130</td>\n",
       "      <td>0.041449</td>\n",
       "      <td>0.051648</td>\n",
       "      <td>0.170575</td>\n",
       "      <td>0.075667</td>\n",
       "      <td>122.211321</td>\n",
       "    </tr>\n",
       "  </tbody>\n",
       "</table>\n",
       "<p>2 rows × 30 columns</p>\n",
       "</div>"
      ],
      "text/plain": [
       "               Time        V1        V2        V3        V4        V5  \\\n",
       "Class                                                                   \n",
       "0      94838.202258  0.008258 -0.006271  0.012171 -0.007860  0.005453   \n",
       "1      80746.806911 -4.771948  3.623778 -7.033281  4.542029 -3.151225   \n",
       "\n",
       "             V6        V7        V8        V9  ...       V20       V21  \\\n",
       "Class                                          ...                       \n",
       "0      0.002419  0.009637 -0.000987  0.004467  ... -0.000644 -0.001235   \n",
       "1     -1.397737 -5.568731  0.570636 -2.581123  ...  0.372319  0.713588   \n",
       "\n",
       "            V22       V23       V24       V25       V26       V27       V28  \\\n",
       "Class                                                                         \n",
       "0     -0.000024  0.000070  0.000182 -0.000072 -0.000089 -0.000295 -0.000131   \n",
       "1      0.014049 -0.040308 -0.105130  0.041449  0.051648  0.170575  0.075667   \n",
       "\n",
       "           Amount  \n",
       "Class              \n",
       "0       88.291022  \n",
       "1      122.211321  \n",
       "\n",
       "[2 rows x 30 columns]"
      ]
     },
     "execution_count": 8,
     "metadata": {},
     "output_type": "execute_result"
    }
   ],
   "source": [
    "#compare the mean value for both the transaction\n",
    "credit_data.groupby('Class').mean()"
   ]
  },
  {
   "cell_type": "code",
   "execution_count": 9,
   "id": "90e1ee63",
   "metadata": {
    "execution": {
     "iopub.execute_input": "2024-06-24T19:55:22.404598Z",
     "iopub.status.busy": "2024-06-24T19:55:22.404174Z",
     "iopub.status.idle": "2024-06-24T19:55:22.425271Z",
     "shell.execute_reply": "2024-06-24T19:55:22.423727Z"
    },
    "papermill": {
     "duration": 0.03617,
     "end_time": "2024-06-24T19:55:22.428562",
     "exception": false,
     "start_time": "2024-06-24T19:55:22.392392",
     "status": "completed"
    },
    "tags": []
   },
   "outputs": [],
   "source": [
    "#dealing with unbalanced data and using the concept of undersampling\n",
    "#build sample data set from original data set containing similar distribution of normal/legit transaction and fraudulent transaction\n",
    "#no of fraud transaction =492\n",
    "\n",
    "legit_sample=legit.sample(n=492)\n",
    "\n"
   ]
  },
  {
   "cell_type": "code",
   "execution_count": 10,
   "id": "f7a309b7",
   "metadata": {
    "execution": {
     "iopub.execute_input": "2024-06-24T19:55:22.452599Z",
     "iopub.status.busy": "2024-06-24T19:55:22.451580Z",
     "iopub.status.idle": "2024-06-24T19:55:22.459227Z",
     "shell.execute_reply": "2024-06-24T19:55:22.457729Z"
    },
    "papermill": {
     "duration": 0.023474,
     "end_time": "2024-06-24T19:55:22.462434",
     "exception": false,
     "start_time": "2024-06-24T19:55:22.438960",
     "status": "completed"
    },
    "tags": []
   },
   "outputs": [],
   "source": [
    "#concatenate two data frame \n",
    "new_dataset=pd.concat([legit_sample,fraud],axis=0)"
   ]
  },
  {
   "cell_type": "code",
   "execution_count": 11,
   "id": "69d0a1a5",
   "metadata": {
    "execution": {
     "iopub.execute_input": "2024-06-24T19:55:22.485531Z",
     "iopub.status.busy": "2024-06-24T19:55:22.485095Z",
     "iopub.status.idle": "2024-06-24T19:55:22.517672Z",
     "shell.execute_reply": "2024-06-24T19:55:22.516327Z"
    },
    "papermill": {
     "duration": 0.047531,
     "end_time": "2024-06-24T19:55:22.520573",
     "exception": false,
     "start_time": "2024-06-24T19:55:22.473042",
     "status": "completed"
    },
    "tags": []
   },
   "outputs": [
    {
     "data": {
      "text/html": [
       "<div>\n",
       "<style scoped>\n",
       "    .dataframe tbody tr th:only-of-type {\n",
       "        vertical-align: middle;\n",
       "    }\n",
       "\n",
       "    .dataframe tbody tr th {\n",
       "        vertical-align: top;\n",
       "    }\n",
       "\n",
       "    .dataframe thead th {\n",
       "        text-align: right;\n",
       "    }\n",
       "</style>\n",
       "<table border=\"1\" class=\"dataframe\">\n",
       "  <thead>\n",
       "    <tr style=\"text-align: right;\">\n",
       "      <th></th>\n",
       "      <th>Time</th>\n",
       "      <th>V1</th>\n",
       "      <th>V2</th>\n",
       "      <th>V3</th>\n",
       "      <th>V4</th>\n",
       "      <th>V5</th>\n",
       "      <th>V6</th>\n",
       "      <th>V7</th>\n",
       "      <th>V8</th>\n",
       "      <th>V9</th>\n",
       "      <th>...</th>\n",
       "      <th>V21</th>\n",
       "      <th>V22</th>\n",
       "      <th>V23</th>\n",
       "      <th>V24</th>\n",
       "      <th>V25</th>\n",
       "      <th>V26</th>\n",
       "      <th>V27</th>\n",
       "      <th>V28</th>\n",
       "      <th>Amount</th>\n",
       "      <th>Class</th>\n",
       "    </tr>\n",
       "  </thead>\n",
       "  <tbody>\n",
       "    <tr>\n",
       "      <th>223464</th>\n",
       "      <td>143395.0</td>\n",
       "      <td>2.024433</td>\n",
       "      <td>0.281553</td>\n",
       "      <td>-1.673993</td>\n",
       "      <td>1.180634</td>\n",
       "      <td>0.756858</td>\n",
       "      <td>-0.611676</td>\n",
       "      <td>0.604127</td>\n",
       "      <td>-0.316391</td>\n",
       "      <td>-0.212609</td>\n",
       "      <td>...</td>\n",
       "      <td>0.088968</td>\n",
       "      <td>0.526617</td>\n",
       "      <td>-0.062302</td>\n",
       "      <td>-0.358147</td>\n",
       "      <td>0.514388</td>\n",
       "      <td>-0.489694</td>\n",
       "      <td>-0.009779</td>\n",
       "      <td>-0.074327</td>\n",
       "      <td>1.00</td>\n",
       "      <td>0</td>\n",
       "    </tr>\n",
       "    <tr>\n",
       "      <th>252472</th>\n",
       "      <td>155821.0</td>\n",
       "      <td>2.015437</td>\n",
       "      <td>-0.078327</td>\n",
       "      <td>-1.277559</td>\n",
       "      <td>0.207017</td>\n",
       "      <td>0.123341</td>\n",
       "      <td>-0.810154</td>\n",
       "      <td>0.172205</td>\n",
       "      <td>-0.186899</td>\n",
       "      <td>0.423248</td>\n",
       "      <td>...</td>\n",
       "      <td>-0.210148</td>\n",
       "      <td>-0.558933</td>\n",
       "      <td>0.249726</td>\n",
       "      <td>-0.381802</td>\n",
       "      <td>-0.144358</td>\n",
       "      <td>-0.604379</td>\n",
       "      <td>-0.022057</td>\n",
       "      <td>-0.061020</td>\n",
       "      <td>13.00</td>\n",
       "      <td>0</td>\n",
       "    </tr>\n",
       "    <tr>\n",
       "      <th>234750</th>\n",
       "      <td>148093.0</td>\n",
       "      <td>1.951753</td>\n",
       "      <td>-0.406073</td>\n",
       "      <td>-1.541865</td>\n",
       "      <td>0.938644</td>\n",
       "      <td>-0.326524</td>\n",
       "      <td>-0.537708</td>\n",
       "      <td>-0.562685</td>\n",
       "      <td>-0.010978</td>\n",
       "      <td>-0.174408</td>\n",
       "      <td>...</td>\n",
       "      <td>-0.421606</td>\n",
       "      <td>-0.795625</td>\n",
       "      <td>0.218032</td>\n",
       "      <td>0.441092</td>\n",
       "      <td>-0.207901</td>\n",
       "      <td>-0.706410</td>\n",
       "      <td>0.068936</td>\n",
       "      <td>0.032941</td>\n",
       "      <td>72.00</td>\n",
       "      <td>0</td>\n",
       "    </tr>\n",
       "    <tr>\n",
       "      <th>22739</th>\n",
       "      <td>32408.0</td>\n",
       "      <td>-0.209805</td>\n",
       "      <td>1.061183</td>\n",
       "      <td>1.126815</td>\n",
       "      <td>-0.168620</td>\n",
       "      <td>0.708735</td>\n",
       "      <td>-0.479472</td>\n",
       "      <td>0.922509</td>\n",
       "      <td>-0.287501</td>\n",
       "      <td>-0.327616</td>\n",
       "      <td>...</td>\n",
       "      <td>-0.358238</td>\n",
       "      <td>-0.743171</td>\n",
       "      <td>-0.167716</td>\n",
       "      <td>-0.480901</td>\n",
       "      <td>-0.042931</td>\n",
       "      <td>0.092453</td>\n",
       "      <td>0.086636</td>\n",
       "      <td>-0.130672</td>\n",
       "      <td>0.89</td>\n",
       "      <td>0</td>\n",
       "    </tr>\n",
       "    <tr>\n",
       "      <th>225119</th>\n",
       "      <td>144114.0</td>\n",
       "      <td>2.015838</td>\n",
       "      <td>-0.253886</td>\n",
       "      <td>-1.092709</td>\n",
       "      <td>-0.104475</td>\n",
       "      <td>0.111142</td>\n",
       "      <td>-0.161767</td>\n",
       "      <td>-0.237091</td>\n",
       "      <td>0.068763</td>\n",
       "      <td>0.409767</td>\n",
       "      <td>...</td>\n",
       "      <td>-0.436825</td>\n",
       "      <td>-1.399534</td>\n",
       "      <td>0.533022</td>\n",
       "      <td>0.192636</td>\n",
       "      <td>-0.723433</td>\n",
       "      <td>-0.000899</td>\n",
       "      <td>-0.080769</td>\n",
       "      <td>-0.055783</td>\n",
       "      <td>14.31</td>\n",
       "      <td>0</td>\n",
       "    </tr>\n",
       "  </tbody>\n",
       "</table>\n",
       "<p>5 rows × 31 columns</p>\n",
       "</div>"
      ],
      "text/plain": [
       "            Time        V1        V2        V3        V4        V5        V6  \\\n",
       "223464  143395.0  2.024433  0.281553 -1.673993  1.180634  0.756858 -0.611676   \n",
       "252472  155821.0  2.015437 -0.078327 -1.277559  0.207017  0.123341 -0.810154   \n",
       "234750  148093.0  1.951753 -0.406073 -1.541865  0.938644 -0.326524 -0.537708   \n",
       "22739    32408.0 -0.209805  1.061183  1.126815 -0.168620  0.708735 -0.479472   \n",
       "225119  144114.0  2.015838 -0.253886 -1.092709 -0.104475  0.111142 -0.161767   \n",
       "\n",
       "              V7        V8        V9  ...       V21       V22       V23  \\\n",
       "223464  0.604127 -0.316391 -0.212609  ...  0.088968  0.526617 -0.062302   \n",
       "252472  0.172205 -0.186899  0.423248  ... -0.210148 -0.558933  0.249726   \n",
       "234750 -0.562685 -0.010978 -0.174408  ... -0.421606 -0.795625  0.218032   \n",
       "22739   0.922509 -0.287501 -0.327616  ... -0.358238 -0.743171 -0.167716   \n",
       "225119 -0.237091  0.068763  0.409767  ... -0.436825 -1.399534  0.533022   \n",
       "\n",
       "             V24       V25       V26       V27       V28  Amount  Class  \n",
       "223464 -0.358147  0.514388 -0.489694 -0.009779 -0.074327    1.00      0  \n",
       "252472 -0.381802 -0.144358 -0.604379 -0.022057 -0.061020   13.00      0  \n",
       "234750  0.441092 -0.207901 -0.706410  0.068936  0.032941   72.00      0  \n",
       "22739  -0.480901 -0.042931  0.092453  0.086636 -0.130672    0.89      0  \n",
       "225119  0.192636 -0.723433 -0.000899 -0.080769 -0.055783   14.31      0  \n",
       "\n",
       "[5 rows x 31 columns]"
      ]
     },
     "execution_count": 11,
     "metadata": {},
     "output_type": "execute_result"
    }
   ],
   "source": [
    "new_dataset.head()"
   ]
  },
  {
   "cell_type": "code",
   "execution_count": 12,
   "id": "31d6c577",
   "metadata": {
    "execution": {
     "iopub.execute_input": "2024-06-24T19:55:22.543397Z",
     "iopub.status.busy": "2024-06-24T19:55:22.542880Z",
     "iopub.status.idle": "2024-06-24T19:55:22.574237Z",
     "shell.execute_reply": "2024-06-24T19:55:22.572744Z"
    },
    "papermill": {
     "duration": 0.046775,
     "end_time": "2024-06-24T19:55:22.577764",
     "exception": false,
     "start_time": "2024-06-24T19:55:22.530989",
     "status": "completed"
    },
    "tags": []
   },
   "outputs": [
    {
     "data": {
      "text/html": [
       "<div>\n",
       "<style scoped>\n",
       "    .dataframe tbody tr th:only-of-type {\n",
       "        vertical-align: middle;\n",
       "    }\n",
       "\n",
       "    .dataframe tbody tr th {\n",
       "        vertical-align: top;\n",
       "    }\n",
       "\n",
       "    .dataframe thead th {\n",
       "        text-align: right;\n",
       "    }\n",
       "</style>\n",
       "<table border=\"1\" class=\"dataframe\">\n",
       "  <thead>\n",
       "    <tr style=\"text-align: right;\">\n",
       "      <th></th>\n",
       "      <th>Time</th>\n",
       "      <th>V1</th>\n",
       "      <th>V2</th>\n",
       "      <th>V3</th>\n",
       "      <th>V4</th>\n",
       "      <th>V5</th>\n",
       "      <th>V6</th>\n",
       "      <th>V7</th>\n",
       "      <th>V8</th>\n",
       "      <th>V9</th>\n",
       "      <th>...</th>\n",
       "      <th>V20</th>\n",
       "      <th>V21</th>\n",
       "      <th>V22</th>\n",
       "      <th>V23</th>\n",
       "      <th>V24</th>\n",
       "      <th>V25</th>\n",
       "      <th>V26</th>\n",
       "      <th>V27</th>\n",
       "      <th>V28</th>\n",
       "      <th>Amount</th>\n",
       "    </tr>\n",
       "    <tr>\n",
       "      <th>Class</th>\n",
       "      <th></th>\n",
       "      <th></th>\n",
       "      <th></th>\n",
       "      <th></th>\n",
       "      <th></th>\n",
       "      <th></th>\n",
       "      <th></th>\n",
       "      <th></th>\n",
       "      <th></th>\n",
       "      <th></th>\n",
       "      <th></th>\n",
       "      <th></th>\n",
       "      <th></th>\n",
       "      <th></th>\n",
       "      <th></th>\n",
       "      <th></th>\n",
       "      <th></th>\n",
       "      <th></th>\n",
       "      <th></th>\n",
       "      <th></th>\n",
       "      <th></th>\n",
       "    </tr>\n",
       "  </thead>\n",
       "  <tbody>\n",
       "    <tr>\n",
       "      <th>0</th>\n",
       "      <td>93158.587398</td>\n",
       "      <td>0.078449</td>\n",
       "      <td>-0.007897</td>\n",
       "      <td>0.046269</td>\n",
       "      <td>-0.053392</td>\n",
       "      <td>-0.021691</td>\n",
       "      <td>-0.035600</td>\n",
       "      <td>-0.075718</td>\n",
       "      <td>0.010781</td>\n",
       "      <td>0.044329</td>\n",
       "      <td>...</td>\n",
       "      <td>-0.019078</td>\n",
       "      <td>-0.043575</td>\n",
       "      <td>-0.034611</td>\n",
       "      <td>-0.033064</td>\n",
       "      <td>0.027753</td>\n",
       "      <td>-0.008947</td>\n",
       "      <td>-0.053995</td>\n",
       "      <td>0.019533</td>\n",
       "      <td>0.006353</td>\n",
       "      <td>76.758394</td>\n",
       "    </tr>\n",
       "    <tr>\n",
       "      <th>1</th>\n",
       "      <td>80746.806911</td>\n",
       "      <td>-4.771948</td>\n",
       "      <td>3.623778</td>\n",
       "      <td>-7.033281</td>\n",
       "      <td>4.542029</td>\n",
       "      <td>-3.151225</td>\n",
       "      <td>-1.397737</td>\n",
       "      <td>-5.568731</td>\n",
       "      <td>0.570636</td>\n",
       "      <td>-2.581123</td>\n",
       "      <td>...</td>\n",
       "      <td>0.372319</td>\n",
       "      <td>0.713588</td>\n",
       "      <td>0.014049</td>\n",
       "      <td>-0.040308</td>\n",
       "      <td>-0.105130</td>\n",
       "      <td>0.041449</td>\n",
       "      <td>0.051648</td>\n",
       "      <td>0.170575</td>\n",
       "      <td>0.075667</td>\n",
       "      <td>122.211321</td>\n",
       "    </tr>\n",
       "  </tbody>\n",
       "</table>\n",
       "<p>2 rows × 30 columns</p>\n",
       "</div>"
      ],
      "text/plain": [
       "               Time        V1        V2        V3        V4        V5  \\\n",
       "Class                                                                   \n",
       "0      93158.587398  0.078449 -0.007897  0.046269 -0.053392 -0.021691   \n",
       "1      80746.806911 -4.771948  3.623778 -7.033281  4.542029 -3.151225   \n",
       "\n",
       "             V6        V7        V8        V9  ...       V20       V21  \\\n",
       "Class                                          ...                       \n",
       "0     -0.035600 -0.075718  0.010781  0.044329  ... -0.019078 -0.043575   \n",
       "1     -1.397737 -5.568731  0.570636 -2.581123  ...  0.372319  0.713588   \n",
       "\n",
       "            V22       V23       V24       V25       V26       V27       V28  \\\n",
       "Class                                                                         \n",
       "0     -0.034611 -0.033064  0.027753 -0.008947 -0.053995  0.019533  0.006353   \n",
       "1      0.014049 -0.040308 -0.105130  0.041449  0.051648  0.170575  0.075667   \n",
       "\n",
       "           Amount  \n",
       "Class              \n",
       "0       76.758394  \n",
       "1      122.211321  \n",
       "\n",
       "[2 rows x 30 columns]"
      ]
     },
     "execution_count": 12,
     "metadata": {},
     "output_type": "execute_result"
    }
   ],
   "source": [
    "new_dataset.groupby('Class').mean()"
   ]
  },
  {
   "cell_type": "code",
   "execution_count": 13,
   "id": "5fc0a1de",
   "metadata": {
    "execution": {
     "iopub.execute_input": "2024-06-24T19:55:22.602286Z",
     "iopub.status.busy": "2024-06-24T19:55:22.601841Z",
     "iopub.status.idle": "2024-06-24T19:55:22.609086Z",
     "shell.execute_reply": "2024-06-24T19:55:22.607916Z"
    },
    "papermill": {
     "duration": 0.022869,
     "end_time": "2024-06-24T19:55:22.611960",
     "exception": false,
     "start_time": "2024-06-24T19:55:22.589091",
     "status": "completed"
    },
    "tags": []
   },
   "outputs": [],
   "source": [
    "X=new_dataset.drop(columns='Class',axis=1)\n",
    "Y=new_dataset['Class']"
   ]
  },
  {
   "cell_type": "code",
   "execution_count": 14,
   "id": "fe050917",
   "metadata": {
    "execution": {
     "iopub.execute_input": "2024-06-24T19:55:22.636128Z",
     "iopub.status.busy": "2024-06-24T19:55:22.635676Z",
     "iopub.status.idle": "2024-06-24T19:55:22.658586Z",
     "shell.execute_reply": "2024-06-24T19:55:22.657327Z"
    },
    "papermill": {
     "duration": 0.039079,
     "end_time": "2024-06-24T19:55:22.662165",
     "exception": false,
     "start_time": "2024-06-24T19:55:22.623086",
     "status": "completed"
    },
    "tags": []
   },
   "outputs": [
    {
     "name": "stdout",
     "output_type": "stream",
     "text": [
      "            Time        V1        V2        V3        V4        V5        V6  \\\n",
      "223464  143395.0  2.024433  0.281553 -1.673993  1.180634  0.756858 -0.611676   \n",
      "252472  155821.0  2.015437 -0.078327 -1.277559  0.207017  0.123341 -0.810154   \n",
      "234750  148093.0  1.951753 -0.406073 -1.541865  0.938644 -0.326524 -0.537708   \n",
      "22739    32408.0 -0.209805  1.061183  1.126815 -0.168620  0.708735 -0.479472   \n",
      "225119  144114.0  2.015838 -0.253886 -1.092709 -0.104475  0.111142 -0.161767   \n",
      "...          ...       ...       ...       ...       ...       ...       ...   \n",
      "279863  169142.0 -1.927883  1.125653 -4.518331  1.749293 -1.566487 -2.010494   \n",
      "280143  169347.0  1.378559  1.289381 -5.004247  1.411850  0.442581 -1.326536   \n",
      "280149  169351.0 -0.676143  1.126366 -2.213700  0.468308 -1.120541 -0.003346   \n",
      "281144  169966.0 -3.113832  0.585864 -5.399730  1.817092 -0.840618 -2.943548   \n",
      "281674  170348.0  1.991976  0.158476 -2.583441  0.408670  1.151147 -0.096695   \n",
      "\n",
      "              V7        V8        V9  ...       V20       V21       V22  \\\n",
      "223464  0.604127 -0.316391 -0.212609  ... -0.220196  0.088968  0.526617   \n",
      "252472  0.172205 -0.186899  0.423248  ... -0.219412 -0.210148 -0.558933   \n",
      "234750 -0.562685 -0.010978 -0.174408  ... -0.522432 -0.421606 -0.795625   \n",
      "22739   0.922509 -0.287501 -0.327616  ...  0.276392 -0.358238 -0.743171   \n",
      "225119 -0.237091  0.068763  0.409767  ... -0.179533 -0.436825 -1.399534   \n",
      "...          ...       ...       ...  ...       ...       ...       ...   \n",
      "279863 -0.882850  0.697211 -2.064945  ...  1.252967  0.778584 -0.319189   \n",
      "280143 -1.413170  0.248525 -1.127396  ...  0.226138  0.370612  0.028234   \n",
      "280149 -2.234739  1.210158 -0.652250  ...  0.247968  0.751826  0.834108   \n",
      "281144 -2.208002  1.058733 -1.632333  ...  0.306271  0.583276 -0.269209   \n",
      "281674  0.223050 -0.068384  0.577829  ... -0.017652 -0.164350 -0.295135   \n",
      "\n",
      "             V23       V24       V25       V26       V27       V28  Amount  \n",
      "223464 -0.062302 -0.358147  0.514388 -0.489694 -0.009779 -0.074327    1.00  \n",
      "252472  0.249726 -0.381802 -0.144358 -0.604379 -0.022057 -0.061020   13.00  \n",
      "234750  0.218032  0.441092 -0.207901 -0.706410  0.068936  0.032941   72.00  \n",
      "22739  -0.167716 -0.480901 -0.042931  0.092453  0.086636 -0.130672    0.89  \n",
      "225119  0.533022  0.192636 -0.723433 -0.000899 -0.080769 -0.055783   14.31  \n",
      "...          ...       ...       ...       ...       ...       ...     ...  \n",
      "279863  0.639419 -0.294885  0.537503  0.788395  0.292680  0.147968  390.00  \n",
      "280143 -0.145640 -0.081049  0.521875  0.739467  0.389152  0.186637    0.76  \n",
      "280149  0.190944  0.032070 -0.739695  0.471111  0.385107  0.194361   77.89  \n",
      "281144 -0.456108 -0.183659 -0.328168  0.606116  0.884876 -0.253700  245.00  \n",
      "281674 -0.072173 -0.450261  0.313267 -0.289617  0.002988 -0.015309   42.53  \n",
      "\n",
      "[984 rows x 30 columns]\n"
     ]
    }
   ],
   "source": [
    "print(X)"
   ]
  },
  {
   "cell_type": "code",
   "execution_count": 15,
   "id": "df30c929",
   "metadata": {
    "execution": {
     "iopub.execute_input": "2024-06-24T19:55:22.690284Z",
     "iopub.status.busy": "2024-06-24T19:55:22.689852Z",
     "iopub.status.idle": "2024-06-24T19:55:22.699082Z",
     "shell.execute_reply": "2024-06-24T19:55:22.697516Z"
    },
    "papermill": {
     "duration": 0.02889,
     "end_time": "2024-06-24T19:55:22.703785",
     "exception": false,
     "start_time": "2024-06-24T19:55:22.674895",
     "status": "completed"
    },
    "tags": []
   },
   "outputs": [
    {
     "name": "stdout",
     "output_type": "stream",
     "text": [
      "223464    0\n",
      "252472    0\n",
      "234750    0\n",
      "22739     0\n",
      "225119    0\n",
      "         ..\n",
      "279863    1\n",
      "280143    1\n",
      "280149    1\n",
      "281144    1\n",
      "281674    1\n",
      "Name: Class, Length: 984, dtype: int64\n"
     ]
    }
   ],
   "source": [
    "print(Y)"
   ]
  },
  {
   "cell_type": "code",
   "execution_count": 16,
   "id": "eeae2127",
   "metadata": {
    "execution": {
     "iopub.execute_input": "2024-06-24T19:55:22.729621Z",
     "iopub.status.busy": "2024-06-24T19:55:22.728472Z",
     "iopub.status.idle": "2024-06-24T19:55:22.739674Z",
     "shell.execute_reply": "2024-06-24T19:55:22.738373Z"
    },
    "papermill": {
     "duration": 0.027297,
     "end_time": "2024-06-24T19:55:22.743008",
     "exception": false,
     "start_time": "2024-06-24T19:55:22.715711",
     "status": "completed"
    },
    "tags": []
   },
   "outputs": [],
   "source": [
    "X_train,X_test,Y_train,Y_test=train_test_split(X,Y,test_size=0.2, stratify=Y, random_state=2)"
   ]
  },
  {
   "cell_type": "code",
   "execution_count": 17,
   "id": "e49ac1fe",
   "metadata": {
    "execution": {
     "iopub.execute_input": "2024-06-24T19:55:22.771383Z",
     "iopub.status.busy": "2024-06-24T19:55:22.769487Z",
     "iopub.status.idle": "2024-06-24T19:55:22.777348Z",
     "shell.execute_reply": "2024-06-24T19:55:22.775761Z"
    },
    "papermill": {
     "duration": 0.02589,
     "end_time": "2024-06-24T19:55:22.780168",
     "exception": false,
     "start_time": "2024-06-24T19:55:22.754278",
     "status": "completed"
    },
    "tags": []
   },
   "outputs": [
    {
     "name": "stdout",
     "output_type": "stream",
     "text": [
      "(984, 30) (787, 30) (197, 30)\n"
     ]
    }
   ],
   "source": [
    "print(X.shape,X_train.shape,X_test.shape)"
   ]
  },
  {
   "cell_type": "code",
   "execution_count": 18,
   "id": "6cd92abc",
   "metadata": {
    "execution": {
     "iopub.execute_input": "2024-06-24T19:55:22.806223Z",
     "iopub.status.busy": "2024-06-24T19:55:22.805794Z",
     "iopub.status.idle": "2024-06-24T19:55:22.812378Z",
     "shell.execute_reply": "2024-06-24T19:55:22.810801Z"
    },
    "papermill": {
     "duration": 0.023972,
     "end_time": "2024-06-24T19:55:22.815732",
     "exception": false,
     "start_time": "2024-06-24T19:55:22.791760",
     "status": "completed"
    },
    "tags": []
   },
   "outputs": [],
   "source": [
    "model = LogisticRegression(max_iter=2200) "
   ]
  },
  {
   "cell_type": "code",
   "execution_count": 19,
   "id": "d59ac0fd",
   "metadata": {
    "execution": {
     "iopub.execute_input": "2024-06-24T19:55:22.843372Z",
     "iopub.status.busy": "2024-06-24T19:55:22.841799Z",
     "iopub.status.idle": "2024-06-24T19:55:22.893214Z",
     "shell.execute_reply": "2024-06-24T19:55:22.891604Z"
    },
    "papermill": {
     "duration": 0.069089,
     "end_time": "2024-06-24T19:55:22.897692",
     "exception": false,
     "start_time": "2024-06-24T19:55:22.828603",
     "status": "completed"
    },
    "tags": []
   },
   "outputs": [
    {
     "data": {
      "text/html": [
       "<style>#sk-container-id-1 {color: black;background-color: white;}#sk-container-id-1 pre{padding: 0;}#sk-container-id-1 div.sk-toggleable {background-color: white;}#sk-container-id-1 label.sk-toggleable__label {cursor: pointer;display: block;width: 100%;margin-bottom: 0;padding: 0.3em;box-sizing: border-box;text-align: center;}#sk-container-id-1 label.sk-toggleable__label-arrow:before {content: \"▸\";float: left;margin-right: 0.25em;color: #696969;}#sk-container-id-1 label.sk-toggleable__label-arrow:hover:before {color: black;}#sk-container-id-1 div.sk-estimator:hover label.sk-toggleable__label-arrow:before {color: black;}#sk-container-id-1 div.sk-toggleable__content {max-height: 0;max-width: 0;overflow: hidden;text-align: left;background-color: #f0f8ff;}#sk-container-id-1 div.sk-toggleable__content pre {margin: 0.2em;color: black;border-radius: 0.25em;background-color: #f0f8ff;}#sk-container-id-1 input.sk-toggleable__control:checked~div.sk-toggleable__content {max-height: 200px;max-width: 100%;overflow: auto;}#sk-container-id-1 input.sk-toggleable__control:checked~label.sk-toggleable__label-arrow:before {content: \"▾\";}#sk-container-id-1 div.sk-estimator input.sk-toggleable__control:checked~label.sk-toggleable__label {background-color: #d4ebff;}#sk-container-id-1 div.sk-label input.sk-toggleable__control:checked~label.sk-toggleable__label {background-color: #d4ebff;}#sk-container-id-1 input.sk-hidden--visually {border: 0;clip: rect(1px 1px 1px 1px);clip: rect(1px, 1px, 1px, 1px);height: 1px;margin: -1px;overflow: hidden;padding: 0;position: absolute;width: 1px;}#sk-container-id-1 div.sk-estimator {font-family: monospace;background-color: #f0f8ff;border: 1px dotted black;border-radius: 0.25em;box-sizing: border-box;margin-bottom: 0.5em;}#sk-container-id-1 div.sk-estimator:hover {background-color: #d4ebff;}#sk-container-id-1 div.sk-parallel-item::after {content: \"\";width: 100%;border-bottom: 1px solid gray;flex-grow: 1;}#sk-container-id-1 div.sk-label:hover label.sk-toggleable__label {background-color: #d4ebff;}#sk-container-id-1 div.sk-serial::before {content: \"\";position: absolute;border-left: 1px solid gray;box-sizing: border-box;top: 0;bottom: 0;left: 50%;z-index: 0;}#sk-container-id-1 div.sk-serial {display: flex;flex-direction: column;align-items: center;background-color: white;padding-right: 0.2em;padding-left: 0.2em;position: relative;}#sk-container-id-1 div.sk-item {position: relative;z-index: 1;}#sk-container-id-1 div.sk-parallel {display: flex;align-items: stretch;justify-content: center;background-color: white;position: relative;}#sk-container-id-1 div.sk-item::before, #sk-container-id-1 div.sk-parallel-item::before {content: \"\";position: absolute;border-left: 1px solid gray;box-sizing: border-box;top: 0;bottom: 0;left: 50%;z-index: -1;}#sk-container-id-1 div.sk-parallel-item {display: flex;flex-direction: column;z-index: 1;position: relative;background-color: white;}#sk-container-id-1 div.sk-parallel-item:first-child::after {align-self: flex-end;width: 50%;}#sk-container-id-1 div.sk-parallel-item:last-child::after {align-self: flex-start;width: 50%;}#sk-container-id-1 div.sk-parallel-item:only-child::after {width: 0;}#sk-container-id-1 div.sk-dashed-wrapped {border: 1px dashed gray;margin: 0 0.4em 0.5em 0.4em;box-sizing: border-box;padding-bottom: 0.4em;background-color: white;}#sk-container-id-1 div.sk-label label {font-family: monospace;font-weight: bold;display: inline-block;line-height: 1.2em;}#sk-container-id-1 div.sk-label-container {text-align: center;}#sk-container-id-1 div.sk-container {/* jupyter's `normalize.less` sets `[hidden] { display: none; }` but bootstrap.min.css set `[hidden] { display: none !important; }` so we also need the `!important` here to be able to override the default hidden behavior on the sphinx rendered scikit-learn.org. See: https://github.com/scikit-learn/scikit-learn/issues/21755 */display: inline-block !important;position: relative;}#sk-container-id-1 div.sk-text-repr-fallback {display: none;}</style><div id=\"sk-container-id-1\" class=\"sk-top-container\"><div class=\"sk-text-repr-fallback\"><pre>LogisticRegression(max_iter=2200)</pre><b>In a Jupyter environment, please rerun this cell to show the HTML representation or trust the notebook. <br />On GitHub, the HTML representation is unable to render, please try loading this page with nbviewer.org.</b></div><div class=\"sk-container\" hidden><div class=\"sk-item\"><div class=\"sk-estimator sk-toggleable\"><input class=\"sk-toggleable__control sk-hidden--visually\" id=\"sk-estimator-id-1\" type=\"checkbox\" checked><label for=\"sk-estimator-id-1\" class=\"sk-toggleable__label sk-toggleable__label-arrow\">LogisticRegression</label><div class=\"sk-toggleable__content\"><pre>LogisticRegression(max_iter=2200)</pre></div></div></div></div></div>"
      ],
      "text/plain": [
       "LogisticRegression(max_iter=2200)"
      ]
     },
     "execution_count": 19,
     "metadata": {},
     "output_type": "execute_result"
    }
   ],
   "source": [
    "model.fit(X_train,Y_train)"
   ]
  },
  {
   "cell_type": "code",
   "execution_count": 20,
   "id": "25776e6a",
   "metadata": {
    "execution": {
     "iopub.execute_input": "2024-06-24T19:55:22.949206Z",
     "iopub.status.busy": "2024-06-24T19:55:22.948322Z",
     "iopub.status.idle": "2024-06-24T19:55:22.968014Z",
     "shell.execute_reply": "2024-06-24T19:55:22.966241Z"
    },
    "papermill": {
     "duration": 0.051903,
     "end_time": "2024-06-24T19:55:22.973630",
     "exception": false,
     "start_time": "2024-06-24T19:55:22.921727",
     "status": "completed"
    },
    "tags": []
   },
   "outputs": [],
   "source": [
    "X_train_prediction= model.predict(X_train)\n",
    "training_data_accuracy=accuracy_score(X_train_prediction,Y_train)"
   ]
  },
  {
   "cell_type": "code",
   "execution_count": 21,
   "id": "a7982c9d",
   "metadata": {
    "execution": {
     "iopub.execute_input": "2024-06-24T19:55:23.031287Z",
     "iopub.status.busy": "2024-06-24T19:55:23.030566Z",
     "iopub.status.idle": "2024-06-24T19:55:23.038764Z",
     "shell.execute_reply": "2024-06-24T19:55:23.037340Z"
    },
    "papermill": {
     "duration": 0.046035,
     "end_time": "2024-06-24T19:55:23.045485",
     "exception": false,
     "start_time": "2024-06-24T19:55:22.999450",
     "status": "completed"
    },
    "tags": []
   },
   "outputs": [
    {
     "name": "stdout",
     "output_type": "stream",
     "text": [
      "accuracy of our test data 0.9275730622617535\n"
     ]
    }
   ],
   "source": [
    "print('accuracy of our test data',training_data_accuracy)"
   ]
  },
  {
   "cell_type": "code",
   "execution_count": 22,
   "id": "0a134347",
   "metadata": {
    "execution": {
     "iopub.execute_input": "2024-06-24T19:55:23.088543Z",
     "iopub.status.busy": "2024-06-24T19:55:23.088126Z",
     "iopub.status.idle": "2024-06-24T19:55:23.099138Z",
     "shell.execute_reply": "2024-06-24T19:55:23.097162Z"
    },
    "papermill": {
     "duration": 0.032438,
     "end_time": "2024-06-24T19:55:23.102251",
     "exception": false,
     "start_time": "2024-06-24T19:55:23.069813",
     "status": "completed"
    },
    "tags": []
   },
   "outputs": [],
   "source": [
    "X_test_prediction= model.predict(X_test)\n",
    "test_data_accuracy=accuracy_score(X_test_prediction,Y_test)"
   ]
  },
  {
   "cell_type": "code",
   "execution_count": 23,
   "id": "aa077357",
   "metadata": {
    "execution": {
     "iopub.execute_input": "2024-06-24T19:55:23.130819Z",
     "iopub.status.busy": "2024-06-24T19:55:23.129535Z",
     "iopub.status.idle": "2024-06-24T19:55:23.137221Z",
     "shell.execute_reply": "2024-06-24T19:55:23.135756Z"
    },
    "papermill": {
     "duration": 0.026132,
     "end_time": "2024-06-24T19:55:23.140845",
     "exception": false,
     "start_time": "2024-06-24T19:55:23.114713",
     "status": "completed"
    },
    "tags": []
   },
   "outputs": [
    {
     "name": "stdout",
     "output_type": "stream",
     "text": [
      "accuracy of our test data 0.9086294416243654\n"
     ]
    }
   ],
   "source": [
    "print('accuracy of our test data',test_data_accuracy)"
   ]
  },
  {
   "cell_type": "code",
   "execution_count": 24,
   "id": "aeda8b2a",
   "metadata": {
    "execution": {
     "iopub.execute_input": "2024-06-24T19:55:23.168090Z",
     "iopub.status.busy": "2024-06-24T19:55:23.167119Z",
     "iopub.status.idle": "2024-06-24T19:55:23.194889Z",
     "shell.execute_reply": "2024-06-24T19:55:23.193195Z"
    },
    "papermill": {
     "duration": 0.045761,
     "end_time": "2024-06-24T19:55:23.198469",
     "exception": false,
     "start_time": "2024-06-24T19:55:23.152708",
     "status": "completed"
    },
    "tags": []
   },
   "outputs": [],
   "source": [
    "res=X_test.copy()\n",
    "res['actual']=Y_test\n",
    "res['prediction']=X_test_prediction\n",
    "\n",
    "res.to_csv('submission.csv',index=False)"
   ]
  }
 ],
 "metadata": {
  "kaggle": {
   "accelerator": "none",
   "dataSources": [
    {
     "datasetId": 310,
     "sourceId": 23498,
     "sourceType": "datasetVersion"
    }
   ],
   "dockerImageVersionId": 30732,
   "isGpuEnabled": false,
   "isInternetEnabled": true,
   "language": "python",
   "sourceType": "notebook"
  },
  "kernelspec": {
   "display_name": "Python 3",
   "language": "python",
   "name": "python3"
  },
  "language_info": {
   "codemirror_mode": {
    "name": "ipython",
    "version": 3
   },
   "file_extension": ".py",
   "mimetype": "text/x-python",
   "name": "python",
   "nbconvert_exporter": "python",
   "pygments_lexer": "ipython3",
   "version": "3.10.13"
  },
  "papermill": {
   "default_parameters": {},
   "duration": 13.36119,
   "end_time": "2024-06-24T19:55:23.935066",
   "environment_variables": {},
   "exception": null,
   "input_path": "__notebook__.ipynb",
   "output_path": "__notebook__.ipynb",
   "parameters": {},
   "start_time": "2024-06-24T19:55:10.573876",
   "version": "2.5.0"
  }
 },
 "nbformat": 4,
 "nbformat_minor": 5
}
